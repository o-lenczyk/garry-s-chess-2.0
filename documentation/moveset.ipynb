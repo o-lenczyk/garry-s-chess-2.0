{
 "cells": [
  {
   "cell_type": "code",
   "execution_count": 1,
   "metadata": {},
   "outputs": [
    {
     "data": {
      "text/plain": [
       "{(-1, -1), (-1, 0), (-1, 1), (0, -1), (0, 1), (1, -1), (1, 0), (1, 1)}"
      ]
     },
     "execution_count": 1,
     "metadata": {},
     "output_type": "execute_result"
    }
   ],
   "source": [
    "queen = {(x, y) for x in range(-1, 2) for y in range(-1, 2) if x != 0 or y != 0}\n",
    "queen"
   ]
  },
  {
   "cell_type": "code",
   "execution_count": 2,
   "metadata": {},
   "outputs": [
    {
     "data": {
      "text/plain": [
       "{(-1, 0), (0, -1), (0, 1), (1, 0)}"
      ]
     },
     "execution_count": 2,
     "metadata": {},
     "output_type": "execute_result"
    }
   ],
   "source": [
    "rook = {(x, y) for x in range(-1, 2) for y in range(-1, 2) if (x == 0 or y == 0) and (x != 0 or y != 0)}\n",
    "rook"
   ]
  },
  {
   "cell_type": "code",
   "execution_count": 3,
   "metadata": {},
   "outputs": [
    {
     "data": {
      "text/plain": [
       "{(-1, -1), (-1, 1), (1, -1), (1, 1)}"
      ]
     },
     "execution_count": 3,
     "metadata": {},
     "output_type": "execute_result"
    }
   ],
   "source": [
    "bishop={(x, y) for x in range(-1, 2) for y in range(-1, 2) if x != 0 and y != 0}\n",
    "bishop"
   ]
  },
  {
   "cell_type": "code",
   "execution_count": 4,
   "metadata": {},
   "outputs": [
    {
     "data": {
      "text/plain": [
       "{(-1, -1), (-1, 0), (-1, 1), (0, -1), (0, 1), (1, -1), (1, 0), (1, 1)}"
      ]
     },
     "execution_count": 4,
     "metadata": {},
     "output_type": "execute_result"
    }
   ],
   "source": [
    "king = {(x, y) for x in range(-1, 2) for y in range(-1, 2) if x != 0 or y != 0}\n",
    "king"
   ]
  },
  {
   "cell_type": "code",
   "execution_count": 5,
   "metadata": {},
   "outputs": [
    {
     "data": {
      "text/plain": [
       "{(-2, -1), (-2, 1), (-1, -2), (-1, 2), (1, -2), (1, 2), (2, -1), (2, 1)}"
      ]
     },
     "execution_count": 5,
     "metadata": {},
     "output_type": "execute_result"
    }
   ],
   "source": [
    "knight = {(x, y) for x in range(-2, 3) for y in range(-2, 3) if x != 0 and y != 0 and abs(x) != abs(y)}\n",
    "knight"
   ]
  },
  {
   "cell_type": "code",
   "execution_count": 6,
   "metadata": {},
   "outputs": [
    {
     "data": {
      "text/plain": [
       "{(0, 1)}"
      ]
     },
     "execution_count": 6,
     "metadata": {},
     "output_type": "execute_result"
    }
   ],
   "source": [
    "pawn = {(0, y) for y in range(1, 2)}\n",
    "pawn"
   ]
  },
  {
   "cell_type": "code",
   "execution_count": 7,
   "metadata": {},
   "outputs": [
    {
     "name": "stdout",
     "output_type": "stream",
     "text": [
      "testing direction (-1, 0)\n",
      "4 5\n",
      "3 5\n",
      "2 5\n",
      "1 5\n",
      "0 5\n",
      "testing direction (1, 0)\n",
      "6 5\n",
      "7 5\n",
      "testing direction (0, -1)\n",
      "5 4\n",
      "5 3\n",
      "5 2\n",
      "5 1\n",
      "5 0\n",
      "testing direction (0, 1)\n",
      "5 6\n",
      "5 7\n"
     ]
    }
   ],
   "source": [
    "row=5\n",
    "column=5\n",
    "move_directions = {(-1, 0), (0, -1), (0, 1), (1, 0)}\n",
    "\n",
    "for direction in move_directions:\n",
    "    temp_row=row\n",
    "    temp_column=column\n",
    "    print(\"testing direction\", direction)\n",
    "    while temp_row+direction[0] in range(0,8) and temp_column+direction[1] in range(0,8):\n",
    "        print(temp_row+direction[0], temp_column+direction[1])\n",
    "        temp_row+=direction[0]\n",
    "        temp_column+=direction[1]"
   ]
  },
  {
   "cell_type": "markdown",
   "metadata": {},
   "source": [
    "initialize empty board"
   ]
  },
  {
   "cell_type": "code",
   "execution_count": 8,
   "metadata": {},
   "outputs": [
    {
     "data": {
      "text/plain": [
       "array([[0, 0, 0, 0, 0, 0, 0, 0],\n",
       "       [0, 0, 0, 0, 0, 0, 0, 0],\n",
       "       [0, 0, 0, 0, 0, 0, 0, 0],\n",
       "       [0, 0, 0, 0, 0, 0, 0, 0],\n",
       "       [0, 0, 0, 0, 0, 0, 0, 0],\n",
       "       [0, 0, 0, 0, 0, 0, 0, 0],\n",
       "       [0, 0, 0, 0, 0, 0, 0, 0],\n",
       "       [0, 0, 0, 0, 0, 0, 0, 0]])"
      ]
     },
     "execution_count": 8,
     "metadata": {},
     "output_type": "execute_result"
    }
   ],
   "source": [
    "import numpy as np \n",
    "\n",
    "board=np.zeros(64,dtype=int).reshape(8,8)\n",
    "\n",
    "board\n",
    "\n"
   ]
  },
  {
   "cell_type": "markdown",
   "metadata": {},
   "source": [
    "next matrix will represent possible moves for a rook on empty board"
   ]
  },
  {
   "cell_type": "code",
   "execution_count": 11,
   "metadata": {},
   "outputs": [
    {
     "data": {
      "text/plain": [
       "array([[0, 0, 0, 0, 0, 1, 0, 0],\n",
       "       [0, 0, 0, 0, 0, 1, 0, 0],\n",
       "       [0, 0, 0, 0, 0, 1, 0, 0],\n",
       "       [0, 0, 0, 0, 0, 1, 0, 0],\n",
       "       [0, 0, 0, 0, 0, 1, 0, 0],\n",
       "       [1, 1, 1, 1, 1, 9, 1, 1],\n",
       "       [0, 0, 0, 0, 0, 1, 0, 0],\n",
       "       [0, 0, 0, 0, 0, 1, 0, 0]])"
      ]
     },
     "execution_count": 11,
     "metadata": {},
     "output_type": "execute_result"
    }
   ],
   "source": [
    "row=5\n",
    "column=5\n",
    "\n",
    "board[row][column]=\"9\"\n",
    "\n",
    "rook_move_directions = {(-1, 0), (0, -1), (0, 1), (1, 0)}\n",
    "\n",
    "for direction in rook_move_directions:\n",
    "    temp_row=row\n",
    "    temp_column=column\n",
    "\n",
    "    while temp_row+direction[0] in range(0,8) and temp_column+direction[1] in range(0,8):\n",
    "        board[temp_row+direction[0]][temp_column+direction[1]]=1\n",
    "        temp_row+=direction[0]\n",
    "        temp_column+=direction[1]\n",
    "\n",
    "board"
   ]
  }
 ],
 "metadata": {
  "interpreter": {
   "hash": "e7370f93d1d0cde622a1f8e1c04877d8463912d04d973331ad4851f04de6915a"
  },
  "kernelspec": {
   "display_name": "Python 3.10.1 64-bit",
   "language": "python",
   "name": "python3"
  },
  "language_info": {
   "codemirror_mode": {
    "name": "ipython",
    "version": 3
   },
   "file_extension": ".py",
   "mimetype": "text/x-python",
   "name": "python",
   "nbconvert_exporter": "python",
   "pygments_lexer": "ipython3",
   "version": "3.10.1"
  },
  "orig_nbformat": 4
 },
 "nbformat": 4,
 "nbformat_minor": 2
}
